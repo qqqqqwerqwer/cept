{
 "cells": [
  {
   "cell_type": "code",
   "execution_count": 3,
   "metadata": {
    "scrolled": true
   },
   "outputs": [
    {
     "name": "stdout",
     "output_type": "stream",
     "text": [
      "Using matplotlib backend: Qt5Agg\n",
      "train data shape: (150000, 31)\n",
      "test data shape: (50000, 30)\n",
      "<class 'pandas.core.frame.DataFrame'>\n",
      "RangeIndex: 150000 entries, 0 to 149999\n",
      "Data columns (total 31 columns):\n",
      " #   Column             Non-Null Count   Dtype  \n",
      "---  ------             --------------   -----  \n",
      " 0   SaleID             150000 non-null  int64  \n",
      " 1   name               150000 non-null  int64  \n",
      " 2   regDate            150000 non-null  int64  \n",
      " 3   model              149999 non-null  float64\n",
      " 4   brand              150000 non-null  int64  \n",
      " 5   bodyType           145494 non-null  float64\n",
      " 6   fuelType           141320 non-null  float64\n",
      " 7   gearbox            144019 non-null  float64\n",
      " 8   power              150000 non-null  int64  \n",
      " 9   kilometer          150000 non-null  float64\n",
      " 10  notRepairedDamage  150000 non-null  object \n",
      " 11  regionCode         150000 non-null  int64  \n",
      " 12  seller             150000 non-null  int64  \n",
      " 13  offerType          150000 non-null  int64  \n",
      " 14  creatDate          150000 non-null  int64  \n",
      " 15  price              150000 non-null  int64  \n",
      " 16  v_0                150000 non-null  float64\n",
      " 17  v_1                150000 non-null  float64\n",
      " 18  v_2                150000 non-null  float64\n",
      " 19  v_3                150000 non-null  float64\n",
      " 20  v_4                150000 non-null  float64\n",
      " 21  v_5                150000 non-null  float64\n",
      " 22  v_6                150000 non-null  float64\n",
      " 23  v_7                150000 non-null  float64\n",
      " 24  v_8                150000 non-null  float64\n",
      " 25  v_9                150000 non-null  float64\n",
      " 26  v_10               150000 non-null  float64\n",
      " 27  v_11               150000 non-null  float64\n",
      " 28  v_12               150000 non-null  float64\n",
      " 29  v_13               150000 non-null  float64\n",
      " 30  v_14               150000 non-null  float64\n",
      "dtypes: float64(20), int64(10), object(1)\n",
      "memory usage: 35.5+ MB\n"
     ]
    },
    {
     "data": {
      "text/html": [
       "<div>\n",
       "<style scoped>\n",
       "    .dataframe tbody tr th:only-of-type {\n",
       "        vertical-align: middle;\n",
       "    }\n",
       "\n",
       "    .dataframe tbody tr th {\n",
       "        vertical-align: top;\n",
       "    }\n",
       "\n",
       "    .dataframe thead th {\n",
       "        text-align: right;\n",
       "    }\n",
       "</style>\n",
       "<table border=\"1\" class=\"dataframe\">\n",
       "  <thead>\n",
       "    <tr style=\"text-align: right;\">\n",
       "      <th></th>\n",
       "      <th>SaleID</th>\n",
       "      <th>name</th>\n",
       "      <th>regDate</th>\n",
       "      <th>model</th>\n",
       "      <th>brand</th>\n",
       "      <th>bodyType</th>\n",
       "      <th>fuelType</th>\n",
       "      <th>gearbox</th>\n",
       "      <th>power</th>\n",
       "      <th>kilometer</th>\n",
       "      <th>...</th>\n",
       "      <th>v_5</th>\n",
       "      <th>v_6</th>\n",
       "      <th>v_7</th>\n",
       "      <th>v_8</th>\n",
       "      <th>v_9</th>\n",
       "      <th>v_10</th>\n",
       "      <th>v_11</th>\n",
       "      <th>v_12</th>\n",
       "      <th>v_13</th>\n",
       "      <th>v_14</th>\n",
       "    </tr>\n",
       "  </thead>\n",
       "  <tbody>\n",
       "    <tr>\n",
       "      <th>count</th>\n",
       "      <td>150000.000000</td>\n",
       "      <td>150000.000000</td>\n",
       "      <td>1.500000e+05</td>\n",
       "      <td>149999.000000</td>\n",
       "      <td>150000.000000</td>\n",
       "      <td>145494.000000</td>\n",
       "      <td>141320.000000</td>\n",
       "      <td>144019.000000</td>\n",
       "      <td>150000.000000</td>\n",
       "      <td>150000.000000</td>\n",
       "      <td>...</td>\n",
       "      <td>150000.000000</td>\n",
       "      <td>150000.000000</td>\n",
       "      <td>150000.000000</td>\n",
       "      <td>150000.000000</td>\n",
       "      <td>150000.000000</td>\n",
       "      <td>150000.000000</td>\n",
       "      <td>150000.000000</td>\n",
       "      <td>150000.000000</td>\n",
       "      <td>150000.000000</td>\n",
       "      <td>150000.000000</td>\n",
       "    </tr>\n",
       "    <tr>\n",
       "      <th>mean</th>\n",
       "      <td>74999.500000</td>\n",
       "      <td>68349.172873</td>\n",
       "      <td>2.003417e+07</td>\n",
       "      <td>47.129021</td>\n",
       "      <td>8.052733</td>\n",
       "      <td>1.792369</td>\n",
       "      <td>0.375842</td>\n",
       "      <td>0.224943</td>\n",
       "      <td>119.316547</td>\n",
       "      <td>12.597160</td>\n",
       "      <td>...</td>\n",
       "      <td>0.248204</td>\n",
       "      <td>0.044923</td>\n",
       "      <td>0.124692</td>\n",
       "      <td>0.058144</td>\n",
       "      <td>0.061996</td>\n",
       "      <td>-0.001000</td>\n",
       "      <td>0.009035</td>\n",
       "      <td>0.004813</td>\n",
       "      <td>0.000313</td>\n",
       "      <td>-0.000688</td>\n",
       "    </tr>\n",
       "    <tr>\n",
       "      <th>std</th>\n",
       "      <td>43301.414527</td>\n",
       "      <td>61103.875095</td>\n",
       "      <td>5.364988e+04</td>\n",
       "      <td>49.536040</td>\n",
       "      <td>7.864956</td>\n",
       "      <td>1.760640</td>\n",
       "      <td>0.548677</td>\n",
       "      <td>0.417546</td>\n",
       "      <td>177.168419</td>\n",
       "      <td>3.919576</td>\n",
       "      <td>...</td>\n",
       "      <td>0.045804</td>\n",
       "      <td>0.051743</td>\n",
       "      <td>0.201410</td>\n",
       "      <td>0.029186</td>\n",
       "      <td>0.035692</td>\n",
       "      <td>3.772386</td>\n",
       "      <td>3.286071</td>\n",
       "      <td>2.517478</td>\n",
       "      <td>1.288988</td>\n",
       "      <td>1.038685</td>\n",
       "    </tr>\n",
       "    <tr>\n",
       "      <th>min</th>\n",
       "      <td>0.000000</td>\n",
       "      <td>0.000000</td>\n",
       "      <td>1.991000e+07</td>\n",
       "      <td>0.000000</td>\n",
       "      <td>0.000000</td>\n",
       "      <td>0.000000</td>\n",
       "      <td>0.000000</td>\n",
       "      <td>0.000000</td>\n",
       "      <td>0.000000</td>\n",
       "      <td>0.500000</td>\n",
       "      <td>...</td>\n",
       "      <td>0.000000</td>\n",
       "      <td>0.000000</td>\n",
       "      <td>0.000000</td>\n",
       "      <td>0.000000</td>\n",
       "      <td>0.000000</td>\n",
       "      <td>-9.168192</td>\n",
       "      <td>-5.558207</td>\n",
       "      <td>-9.639552</td>\n",
       "      <td>-4.153899</td>\n",
       "      <td>-6.546556</td>\n",
       "    </tr>\n",
       "    <tr>\n",
       "      <th>25%</th>\n",
       "      <td>37499.750000</td>\n",
       "      <td>11156.000000</td>\n",
       "      <td>1.999091e+07</td>\n",
       "      <td>10.000000</td>\n",
       "      <td>1.000000</td>\n",
       "      <td>0.000000</td>\n",
       "      <td>0.000000</td>\n",
       "      <td>0.000000</td>\n",
       "      <td>75.000000</td>\n",
       "      <td>12.500000</td>\n",
       "      <td>...</td>\n",
       "      <td>0.243615</td>\n",
       "      <td>0.000038</td>\n",
       "      <td>0.062474</td>\n",
       "      <td>0.035334</td>\n",
       "      <td>0.033930</td>\n",
       "      <td>-3.722303</td>\n",
       "      <td>-1.951543</td>\n",
       "      <td>-1.871846</td>\n",
       "      <td>-1.057789</td>\n",
       "      <td>-0.437034</td>\n",
       "    </tr>\n",
       "    <tr>\n",
       "      <th>50%</th>\n",
       "      <td>74999.500000</td>\n",
       "      <td>51638.000000</td>\n",
       "      <td>2.003091e+07</td>\n",
       "      <td>30.000000</td>\n",
       "      <td>6.000000</td>\n",
       "      <td>1.000000</td>\n",
       "      <td>0.000000</td>\n",
       "      <td>0.000000</td>\n",
       "      <td>110.000000</td>\n",
       "      <td>15.000000</td>\n",
       "      <td>...</td>\n",
       "      <td>0.257798</td>\n",
       "      <td>0.000812</td>\n",
       "      <td>0.095866</td>\n",
       "      <td>0.057014</td>\n",
       "      <td>0.058484</td>\n",
       "      <td>1.624076</td>\n",
       "      <td>-0.358053</td>\n",
       "      <td>-0.130753</td>\n",
       "      <td>-0.036245</td>\n",
       "      <td>0.141246</td>\n",
       "    </tr>\n",
       "    <tr>\n",
       "      <th>75%</th>\n",
       "      <td>112499.250000</td>\n",
       "      <td>118841.250000</td>\n",
       "      <td>2.007111e+07</td>\n",
       "      <td>66.000000</td>\n",
       "      <td>13.000000</td>\n",
       "      <td>3.000000</td>\n",
       "      <td>1.000000</td>\n",
       "      <td>0.000000</td>\n",
       "      <td>150.000000</td>\n",
       "      <td>15.000000</td>\n",
       "      <td>...</td>\n",
       "      <td>0.265297</td>\n",
       "      <td>0.102009</td>\n",
       "      <td>0.125243</td>\n",
       "      <td>0.079382</td>\n",
       "      <td>0.087491</td>\n",
       "      <td>2.844357</td>\n",
       "      <td>1.255022</td>\n",
       "      <td>1.776933</td>\n",
       "      <td>0.942813</td>\n",
       "      <td>0.680378</td>\n",
       "    </tr>\n",
       "    <tr>\n",
       "      <th>max</th>\n",
       "      <td>149999.000000</td>\n",
       "      <td>196812.000000</td>\n",
       "      <td>2.015121e+07</td>\n",
       "      <td>247.000000</td>\n",
       "      <td>39.000000</td>\n",
       "      <td>7.000000</td>\n",
       "      <td>6.000000</td>\n",
       "      <td>1.000000</td>\n",
       "      <td>19312.000000</td>\n",
       "      <td>15.000000</td>\n",
       "      <td>...</td>\n",
       "      <td>0.291838</td>\n",
       "      <td>0.151420</td>\n",
       "      <td>1.404936</td>\n",
       "      <td>0.160791</td>\n",
       "      <td>0.222787</td>\n",
       "      <td>12.357011</td>\n",
       "      <td>18.819042</td>\n",
       "      <td>13.847792</td>\n",
       "      <td>11.147669</td>\n",
       "      <td>8.658418</td>\n",
       "    </tr>\n",
       "  </tbody>\n",
       "</table>\n",
       "<p>8 rows × 30 columns</p>\n",
       "</div>"
      ],
      "text/plain": [
       "              SaleID           name       regDate          model  \\\n",
       "count  150000.000000  150000.000000  1.500000e+05  149999.000000   \n",
       "mean    74999.500000   68349.172873  2.003417e+07      47.129021   \n",
       "std     43301.414527   61103.875095  5.364988e+04      49.536040   \n",
       "min         0.000000       0.000000  1.991000e+07       0.000000   \n",
       "25%     37499.750000   11156.000000  1.999091e+07      10.000000   \n",
       "50%     74999.500000   51638.000000  2.003091e+07      30.000000   \n",
       "75%    112499.250000  118841.250000  2.007111e+07      66.000000   \n",
       "max    149999.000000  196812.000000  2.015121e+07     247.000000   \n",
       "\n",
       "               brand       bodyType       fuelType        gearbox  \\\n",
       "count  150000.000000  145494.000000  141320.000000  144019.000000   \n",
       "mean        8.052733       1.792369       0.375842       0.224943   \n",
       "std         7.864956       1.760640       0.548677       0.417546   \n",
       "min         0.000000       0.000000       0.000000       0.000000   \n",
       "25%         1.000000       0.000000       0.000000       0.000000   \n",
       "50%         6.000000       1.000000       0.000000       0.000000   \n",
       "75%        13.000000       3.000000       1.000000       0.000000   \n",
       "max        39.000000       7.000000       6.000000       1.000000   \n",
       "\n",
       "               power      kilometer  ...            v_5            v_6  \\\n",
       "count  150000.000000  150000.000000  ...  150000.000000  150000.000000   \n",
       "mean      119.316547      12.597160  ...       0.248204       0.044923   \n",
       "std       177.168419       3.919576  ...       0.045804       0.051743   \n",
       "min         0.000000       0.500000  ...       0.000000       0.000000   \n",
       "25%        75.000000      12.500000  ...       0.243615       0.000038   \n",
       "50%       110.000000      15.000000  ...       0.257798       0.000812   \n",
       "75%       150.000000      15.000000  ...       0.265297       0.102009   \n",
       "max     19312.000000      15.000000  ...       0.291838       0.151420   \n",
       "\n",
       "                 v_7            v_8            v_9           v_10  \\\n",
       "count  150000.000000  150000.000000  150000.000000  150000.000000   \n",
       "mean        0.124692       0.058144       0.061996      -0.001000   \n",
       "std         0.201410       0.029186       0.035692       3.772386   \n",
       "min         0.000000       0.000000       0.000000      -9.168192   \n",
       "25%         0.062474       0.035334       0.033930      -3.722303   \n",
       "50%         0.095866       0.057014       0.058484       1.624076   \n",
       "75%         0.125243       0.079382       0.087491       2.844357   \n",
       "max         1.404936       0.160791       0.222787      12.357011   \n",
       "\n",
       "                v_11           v_12           v_13           v_14  \n",
       "count  150000.000000  150000.000000  150000.000000  150000.000000  \n",
       "mean        0.009035       0.004813       0.000313      -0.000688  \n",
       "std         3.286071       2.517478       1.288988       1.038685  \n",
       "min        -5.558207      -9.639552      -4.153899      -6.546556  \n",
       "25%        -1.951543      -1.871846      -1.057789      -0.437034  \n",
       "50%        -0.358053      -0.130753      -0.036245       0.141246  \n",
       "75%         1.255022       1.776933       0.942813       0.680378  \n",
       "max        18.819042      13.847792      11.147669       8.658418  \n",
       "\n",
       "[8 rows x 30 columns]"
      ]
     },
     "execution_count": 3,
     "metadata": {},
     "output_type": "execute_result"
    }
   ],
   "source": [
    "import pandas as pd\n",
    "import matplotlib.pyplot as plt\n",
    "%matplotlib auto\n",
    "#载入数据\n",
    "Train_data = pd.read_csv('used_car_train_20200313.csv', sep=' ')\n",
    "Test_data = pd.read_csv('used_car_testA_20200313.csv', sep=' ')\n",
    "\n",
    "print('train data shape:', Train_data.shape)\n",
    "print('test data shape:', Test_data.shape)\n",
    "Train_data.head()\n",
    "Train_data.info()\n",
    "Train_data.describe()"
   ]
  },
  {
   "cell_type": "code",
   "execution_count": null,
   "metadata": {},
   "outputs": [],
   "source": [
    "Train_data.hist(bins=50)"
   ]
  },
  {
   "cell_type": "code",
   "execution_count": null,
   "metadata": {},
   "outputs": [],
   "source": [
    "Test_data.describe()"
   ]
  },
  {
   "cell_type": "code",
   "execution_count": null,
   "metadata": {},
   "outputs": [],
   "source": [
    "Test_data.info()"
   ]
  },
  {
   "cell_type": "code",
   "execution_count": null,
   "metadata": {},
   "outputs": [],
   "source": [
    "Train_data.isnull().sum()"
   ]
  },
  {
   "cell_type": "code",
   "execution_count": null,
   "metadata": {},
   "outputs": [],
   "source": [
    "Test_data.isnull().sum()"
   ]
  },
  {
   "cell_type": "code",
   "execution_count": 4,
   "metadata": {},
   "outputs": [
    {
     "data": {
      "text/plain": [
       "<matplotlib.axes._subplots.AxesSubplot at 0x23addb7c948>"
      ]
     },
     "execution_count": 4,
     "metadata": {},
     "output_type": "execute_result"
    }
   ],
   "source": [
    "missing=Train_data.isnull().sum()\n",
    "missing=missing[missing>0]\n",
    "missing.sort_values(inplace=True)\n",
    "missing.plot.bar()"
   ]
  },
  {
   "cell_type": "code",
   "execution_count": 8,
   "metadata": {},
   "outputs": [
    {
     "ename": "ModuleNotFoundError",
     "evalue": "No module named 'missingno'",
     "output_type": "error",
     "traceback": [
      "\u001b[1;31m---------------------------------------------------------------------------\u001b[0m",
      "\u001b[1;31mModuleNotFoundError\u001b[0m                       Traceback (most recent call last)",
      "\u001b[1;32m<ipython-input-8-c43259019101>\u001b[0m in \u001b[0;36m<module>\u001b[1;34m\u001b[0m\n\u001b[0;32m      1\u001b[0m \u001b[1;32mimport\u001b[0m \u001b[0mseaborn\u001b[0m \u001b[1;32mas\u001b[0m \u001b[0msns\u001b[0m\u001b[1;33m\u001b[0m\u001b[1;33m\u001b[0m\u001b[0m\n\u001b[1;32m----> 2\u001b[1;33m \u001b[1;32mimport\u001b[0m \u001b[0mmissingno\u001b[0m \u001b[1;32mas\u001b[0m \u001b[0mmsno\u001b[0m\u001b[1;33m\u001b[0m\u001b[1;33m\u001b[0m\u001b[0m\n\u001b[0m\u001b[0;32m      3\u001b[0m \u001b[0mmsno\u001b[0m\u001b[1;33m.\u001b[0m\u001b[0mmatrix\u001b[0m\u001b[1;33m(\u001b[0m\u001b[0mTrain_data\u001b[0m\u001b[1;33m.\u001b[0m\u001b[0msample\u001b[0m\u001b[1;33m(\u001b[0m\u001b[1;36m250\u001b[0m\u001b[1;33m)\u001b[0m\u001b[1;33m)\u001b[0m\u001b[1;33m\u001b[0m\u001b[1;33m\u001b[0m\u001b[0m\n",
      "\u001b[1;31mModuleNotFoundError\u001b[0m: No module named 'missingno'"
     ]
    }
   ],
   "source": [
    "import seaborn as sns\n",
    "import missingno as msno\n",
    "msno.matrix(Train_data.sample(250))"
   ]
  },
  {
   "cell_type": "code",
   "execution_count": 10,
   "metadata": {},
   "outputs": [
    {
     "data": {
      "text/plain": [
       "0         1850\n",
       "1         3600\n",
       "2         6222\n",
       "3         2400\n",
       "4         5200\n",
       "          ... \n",
       "149995    5900\n",
       "149996    9500\n",
       "149997    7500\n",
       "149998    4999\n",
       "149999    4700\n",
       "Name: price, Length: 150000, dtype: int64"
      ]
     },
     "execution_count": 10,
     "metadata": {},
     "output_type": "execute_result"
    }
   ],
   "source": [
    "Train_data['price']"
   ]
  },
  {
   "cell_type": "code",
   "execution_count": 12,
   "metadata": {},
   "outputs": [
    {
     "data": {
      "text/plain": [
       "500      2337\n",
       "1500     2158\n",
       "1200     1922\n",
       "1000     1850\n",
       "2500     1821\n",
       "         ... \n",
       "25321       1\n",
       "8886        1\n",
       "8801        1\n",
       "37920       1\n",
       "8188        1\n",
       "Name: price, Length: 3763, dtype: int64"
      ]
     },
     "execution_count": 12,
     "metadata": {},
     "output_type": "execute_result"
    }
   ],
   "source": [
    "Train_data['price'].value_counts()"
   ]
  },
  {
   "cell_type": "code",
   "execution_count": 14,
   "metadata": {},
   "outputs": [
    {
     "data": {
      "text/plain": [
       "<matplotlib.axes._subplots.AxesSubplot at 0x23ae07a6d48>"
      ]
     },
     "execution_count": 14,
     "metadata": {},
     "output_type": "execute_result"
    }
   ],
   "source": [
    "sns.distplot(Train_data['price'])"
   ]
  },
  {
   "cell_type": "code",
   "execution_count": 15,
   "metadata": {},
   "outputs": [
    {
     "name": "stdout",
     "output_type": "stream",
     "text": [
      "Skew:3.346487\n",
      "Kurt:18.995183\n"
     ]
    }
   ],
   "source": [
    "print('Skew:%f'%Train_data['price'].skew())\n",
    "print('Kurt:%f'%Train_data['price'].kurt())"
   ]
  },
  {
   "cell_type": "code",
   "execution_count": 16,
   "metadata": {},
   "outputs": [
    {
     "data": {
      "text/plain": [
       "(SaleID          0.000000\n",
       " name            0.557606\n",
       " regDate         0.028495\n",
       " model           1.484388\n",
       " brand           1.150760\n",
       " bodyType        0.991530\n",
       " fuelType        1.595486\n",
       " gearbox         1.317514\n",
       " power          65.863178\n",
       " kilometer      -1.525921\n",
       " regionCode      0.688881\n",
       " seller        387.298335\n",
       " offerType       0.000000\n",
       " creatDate     -79.013310\n",
       " price           3.346487\n",
       " v_0            -1.316712\n",
       " v_1             0.359454\n",
       " v_2             4.842556\n",
       " v_3             0.106292\n",
       " v_4             0.367989\n",
       " v_5            -4.737094\n",
       " v_6             0.368073\n",
       " v_7             5.130233\n",
       " v_8             0.204613\n",
       " v_9             0.419501\n",
       " v_10            0.025220\n",
       " v_11            3.029146\n",
       " v_12            0.365358\n",
       " v_13            0.267915\n",
       " v_14           -1.186355\n",
       " dtype: float64,\n",
       " SaleID            -1.200000\n",
       " name              -1.039945\n",
       " regDate           -0.697308\n",
       " model              1.740483\n",
       " brand              1.076201\n",
       " bodyType           0.206937\n",
       " fuelType           5.880049\n",
       " gearbox           -0.264161\n",
       " power           5733.451054\n",
       " kilometer          1.141934\n",
       " regionCode        -0.340832\n",
       " seller        150000.000000\n",
       " offerType          0.000000\n",
       " creatDate       6881.080328\n",
       " price             18.995183\n",
       " v_0                3.993841\n",
       " v_1               -1.753017\n",
       " v_2               23.860591\n",
       " v_3               -0.418006\n",
       " v_4               -0.197295\n",
       " v_5               22.934081\n",
       " v_6               -1.742567\n",
       " v_7               25.845489\n",
       " v_8               -0.636225\n",
       " v_9               -0.321491\n",
       " v_10              -0.577935\n",
       " v_11              12.568731\n",
       " v_12               0.268937\n",
       " v_13              -0.438274\n",
       " v_14               2.393526\n",
       " dtype: float64)"
      ]
     },
     "execution_count": 16,
     "metadata": {},
     "output_type": "execute_result"
    }
   ],
   "source": [
    "Train_data.skew(),Train_data.kurt()"
   ]
  },
  {
   "cell_type": "code",
   "execution_count": 17,
   "metadata": {},
   "outputs": [
    {
     "data": {
      "text/plain": [
       "<matplotlib.axes._subplots.AxesSubplot at 0x23ae94ca288>"
      ]
     },
     "execution_count": 17,
     "metadata": {},
     "output_type": "execute_result"
    }
   ],
   "source": [
    "sns.distplot(Train_data.skew())"
   ]
  },
  {
   "cell_type": "code",
   "execution_count": 18,
   "metadata": {},
   "outputs": [
    {
     "data": {
      "text/plain": [
       "<matplotlib.axes._subplots.AxesSubplot at 0x23af56b6848>"
      ]
     },
     "execution_count": 18,
     "metadata": {},
     "output_type": "execute_result"
    }
   ],
   "source": [
    "sns.distplot(Train_data.kurt())"
   ]
  },
  {
   "cell_type": "code",
   "execution_count": null,
   "metadata": {},
   "outputs": [],
   "source": []
  }
 ],
 "metadata": {
  "kernelspec": {
   "display_name": "Python 3",
   "language": "python",
   "name": "python3"
  },
  "language_info": {
   "codemirror_mode": {
    "name": "ipython",
    "version": 3
   },
   "file_extension": ".py",
   "mimetype": "text/x-python",
   "name": "python",
   "nbconvert_exporter": "python",
   "pygments_lexer": "ipython3",
   "version": "3.7.6"
  }
 },
 "nbformat": 4,
 "nbformat_minor": 2
}
