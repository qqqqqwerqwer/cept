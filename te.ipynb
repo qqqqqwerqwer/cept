{
 "cells": [
  {
   "cell_type": "code",
   "execution_count": 1,
   "metadata": {},
   "outputs": [
    {
     "name": "stderr",
     "output_type": "stream",
     "text": [
      "UsageError: Line magic function `%` not found.\n"
     ]
    }
   ],
   "source": [
    "import pandas as pd\n",
    "import numpy as np\n",
    "import matplotlib\n",
    "import matplotlib.pyplot as plt\n",
    "import seaborn as sns\n",
    "% matplotlib inline"
   ]
  },
  {
   "cell_type": "code",
   "execution_count": 5,
   "metadata": {},
   "outputs": [
    {
     "name": "stdout",
     "output_type": "stream",
     "text": [
      "(150000, 31)\n",
      "(50000, 30)\n"
     ]
    }
   ],
   "source": [
    "train = pd.read_csv('used_car_train_20200313.csv', sep=' ')\n",
    "test = pd.read_csv('used_car_testA_20200313.csv', sep=' ')\n",
    "print(train.shape)\n",
    "print(test.shape)"
   ]
  },
  {
   "cell_type": "code",
   "execution_count": 8,
   "metadata": {},
   "outputs": [],
   "source": [
    "def outliers_proc(data, col_name, scale=3):\n",
    "    \"\"\"\n",
    "    用于清洗异常值，默认用 box_plot（scale=3）进行清洗\n",
    "    :param data: 接收 pandas 数据格式\n",
    "    :param col_name: pandas 列名\n",
    "    :param scale: 尺度\n",
    "    :return:\n",
    "    \"\"\"\n",
    "\n",
    "    def box_plot_outliers(data_ser, box_scale):\n",
    "        \"\"\"\n",
    "        利用箱线图去除异常值\n",
    "        :param data_ser: 接收 pandas.Series 数据格式\n",
    "        :param box_scale: 箱线图尺度，\n",
    "        :return:\n",
    "        \"\"\"\n",
    "        iqr = box_scale * (data_ser.quantile(0.75) - data_ser.quantile(0.25))\n",
    "        val_low = data_ser.quantile(0.25) - iqr\n",
    "        val_up = data_ser.quantile(0.75) + iqr\n",
    "        rule_low = (data_ser < val_low)\n",
    "        rule_up = (data_ser > val_up)\n",
    "        return (rule_low, rule_up), (val_low, val_up)\n",
    "    \n",
    "    data_n = data.copy()\n",
    "    data_series = data_n[col_name]\n",
    "    rule, value = box_plot_outliers(data_series, box_scale=scale)\n",
    "    index = np.arange(data_series.shape[0])[rule[0] | rule[1]]\n",
    "    print(\"Delete number is: {}\".format(len(index)))\n",
    "    data_n = data_n.drop(index)\n",
    "    data_n.reset_index(drop=True, inplace=True)\n",
    "    print(\"Now column number is: {}\".format(data_n.shape[0]))\n",
    "    index_low = np.arange(data_series.shape[0])[rule[0]]\n",
    "    outliers = data_series.iloc[index_low]\n",
    "    print(\"Description of data less than the lower bound is:\")\n",
    "    print(pd.Series(outliers).describe())\n",
    "    index_up = np.arange(data_series.shape[0])[rule[1]]\n",
    "    outliers = data_series.iloc[index_up]\n",
    "    print(\"Description of data larger than the upper bound is:\")\n",
    "    print(pd.Series(outliers).describe())\n",
    "    \n",
    "    fig, ax = plt.subplots(1, 2, figsize=(10, 7))\n",
    "    sns.boxplot(y=data[col_name], data=data, palette=\"Set1\", ax=ax[0])\n",
    "    sns.boxplot(y=data_n[col_name], data=data_n, palette=\"Set1\", ax=ax[1])\n",
    "    return data_n"
   ]
  },
  {
   "cell_type": "code",
   "execution_count": 10,
   "metadata": {},
   "outputs": [
    {
     "name": "stdout",
     "output_type": "stream",
     "text": [
      "Delete number is: 963\n",
      "Now column number is: 149037\n",
      "Description of data less than the lower bound is:\n",
      "count    0.0\n",
      "mean     NaN\n",
      "std      NaN\n",
      "min      NaN\n",
      "25%      NaN\n",
      "50%      NaN\n",
      "75%      NaN\n",
      "max      NaN\n",
      "Name: power, dtype: float64\n",
      "Description of data larger than the upper bound is:\n",
      "count      963.000000\n",
      "mean       846.836968\n",
      "std       1929.418081\n",
      "min        376.000000\n",
      "25%        400.000000\n",
      "50%        436.000000\n",
      "75%        514.000000\n",
      "max      19312.000000\n",
      "Name: power, dtype: float64\n"
     ]
    },
    {
     "data": {
      "image/png": "[encoded data removed]",
      "text/plain": [
       "<Figure size 720x504 with 2 Axes>"
      ]
     },
     "metadata": {
      "needs_background": "light"
     },
     "output_type": "display_data"
    }
   ],
   "source": [
    "train = outliers_proc(train, 'power', scale=3)"
   ]
  },
  {
   "cell_type": "code",
   "execution_count": 14,
   "metadata": {},
   "outputs": [],
   "source": [
    "train['train']=1\n",
    "test['train']=0\n",
    "data=pd.concat([train,test],ignore_index=True,sort=False)"
   ]
  },
  {
   "cell_type": "code",
   "execution_count": 19,
   "metadata": {},
   "outputs": [
    {
     "ename": "SyntaxError",
     "evalue": "invalid syntax (<ipython-input-19-133a9ee6d058>, line 1)",
     "output_type": "error",
     "traceback": [
      "\u001b[1;36m  File \u001b[1;32m\"<ipython-input-19-133a9ee6d058>\"\u001b[1;36m, line \u001b[1;32m1\u001b[0m\n\u001b[1;33m    data['used_time']=(pd.to_datetime(data['creatDate'],format'%Y%m%d',errors='coerce') -\u001b[0m\n\u001b[1;37m                                                                     ^\u001b[0m\n\u001b[1;31mSyntaxError\u001b[0m\u001b[1;31m:\u001b[0m invalid syntax\n"
     ]
    }
   ],
   "source": [
    "data['used_time']=(pd.to_datetime(data['creatDate'],format'%Y%m%d',errors='coerce') -\n",
    "                          pd.to_datetime(data['regDate'],format='%Y%m%d',errors='coerce')).dt.days"
   ]
  },
  {
   "cell_type": "code",
   "execution_count": 20,
   "metadata": {},
   "outputs": [],
   "source": [
    "data['used_time'] = (pd.to_datetime(data['creatDate'], format='%Y%m%d', errors='coerce') - \n",
    "                            pd.to_datetime(data['regDate'], format='%Y%m%d', errors='coerce')).dt.days"
   ]
  },
  {
   "cell_type": "code",
   "execution_count": 21,
   "metadata": {},
   "outputs": [
    {
     "data": {
      "text/plain": [
       "15072"
      ]
     },
     "execution_count": 21,
     "metadata": {},
     "output_type": "execute_result"
    }
   ],
   "source": [
    "data['used_time'].isnull().sum()"
   ]
  },
  {
   "cell_type": "code",
   "execution_count": 22,
   "metadata": {},
   "outputs": [],
   "source": [
    "data['city'] = data['regionCode'].apply(lambda x : str(x)[:-3])"
   ]
  },
  {
   "cell_type": "code",
   "execution_count": 24,
   "metadata": {},
   "outputs": [],
   "source": [
    "train_gb = train.groupby(\"brand\")\n",
    "all_info = {}\n",
    "for kind, kind_data in train_gb:\n",
    "    info = {}\n",
    "    kind_data = kind_data[kind_data['price'] > 0]\n",
    "    info['brand_amount'] = len(kind_data)\n",
    "    info['brand_price_max'] = kind_data.price.max()\n",
    "    info['brand_price_median'] = kind_data.price.median()\n",
    "    info['brand_price_min'] = kind_data.price.min()\n",
    "    info['brand_price_sum'] = kind_data.price.sum()\n",
    "    info['brand_price_std'] = kind_data.price.std()\n",
    "    info['brand_price_average'] = round(kind_data.price.sum() / (len(kind_data) + 1), 2)\n",
    "    all_info[kind] = info\n",
    "brand_fe = pd.DataFrame(all_info).T.reset_index().rename(columns={\"index\": \"brand\"})\n",
    "data = data.merge(brand_fe, how='left', on='brand')"
   ]
  },
  {
   "cell_type": "code",
   "execution_count": 25,
   "metadata": {},
   "outputs": [
    {
     "name": "stdout",
     "output_type": "stream",
     "text": [
      "{'brand_amount': 9, 'brand_price_max': 14500, 'brand_price_median': 1900.0, 'brand_price_min': 750, 'brand_price_sum': 39480, 'brand_price_std': 5520.867232600327, 'brand_price_average': 3948.0}\n"
     ]
    }
   ],
   "source": [
    "print(info)"
   ]
  },
  {
   "cell_type": "code",
   "execution_count": 26,
   "metadata": {},
   "outputs": [
    {
     "name": "stdout",
     "output_type": "stream",
     "text": [
      "{0: {'brand_amount': 31429, 'brand_price_max': 68500, 'brand_price_median': 3199.0, 'brand_price_min': 13, 'brand_price_sum': 173719698, 'brand_price_std': 6261.371627193848, 'brand_price_average': 5527.19}, 1: {'brand_amount': 13656, 'brand_price_max': 84000, 'brand_price_median': 6399.0, 'brand_price_min': 15, 'brand_price_sum': 124044603, 'brand_price_std': 8988.865406006897, 'brand_price_average': 9082.86}, 2: {'brand_amount': 318, 'brand_price_max': 55800, 'brand_price_median': 7500.0, 'brand_price_min': 35, 'brand_price_sum': 3766241, 'brand_price_std': 10576.224443852676, 'brand_price_average': 11806.4}, 3: {'brand_amount': 2461, 'brand_price_max': 37500, 'brand_price_median': 4990.0, 'brand_price_min': 65, 'brand_price_sum': 15954226, 'brand_price_std': 5396.32750326748, 'brand_price_average': 6480.19}, 4: {'brand_amount': 16575, 'brand_price_max': 99999, 'brand_price_median': 5999.0, 'brand_price_min': 12, 'brand_price_sum': 138279069, 'brand_price_std': 8089.863294699394, 'brand_price_average': 8342.13}, 5: {'brand_amount': 4662, 'brand_price_max': 31500, 'brand_price_median': 2300.0, 'brand_price_min': 20, 'brand_price_sum': 15414322, 'brand_price_std': 3344.689762728696, 'brand_price_average': 3305.67}, 6: {'brand_amount': 10193, 'brand_price_max': 35990, 'brand_price_median': 1800.0, 'brand_price_min': 13, 'brand_price_sum': 36457518, 'brand_price_std': 4562.233330501051, 'brand_price_average': 3576.37}, 7: {'brand_amount': 2360, 'brand_price_max': 38900, 'brand_price_median': 2600.0, 'brand_price_min': 60, 'brand_price_sum': 9905909, 'brand_price_std': 4752.5841539229505, 'brand_price_average': 4195.64}, 8: {'brand_amount': 2070, 'brand_price_max': 99999, 'brand_price_median': 2270.0, 'brand_price_min': 30, 'brand_price_sum': 10017173, 'brand_price_std': 6053.233424328857, 'brand_price_average': 4836.88}, 9: {'brand_amount': 7299, 'brand_price_max': 68530, 'brand_price_median': 1400.0, 'brand_price_min': 50, 'brand_price_sum': 17805271, 'brand_price_std': 2975.342883550469, 'brand_price_average': 2439.08}, 10: {'brand_amount': 13994, 'brand_price_max': 92900, 'brand_price_median': 5200.0, 'brand_price_min': 15, 'brand_price_sum': 113034210, 'brand_price_std': 8244.695287191224, 'brand_price_average': 8076.76}, 11: {'brand_amount': 2944, 'brand_price_max': 34500, 'brand_price_median': 2900.0, 'brand_price_min': 30, 'brand_price_sum': 13398006, 'brand_price_std': 4722.16049194639, 'brand_price_average': 4549.41}, 12: {'brand_amount': 1108, 'brand_price_max': 27490, 'brand_price_median': 2625.0, 'brand_price_min': 50, 'brand_price_sum': 4494303, 'brand_price_std': 4066.9599503636523, 'brand_price_average': 4052.57}, 13: {'brand_amount': 3813, 'brand_price_max': 35000, 'brand_price_median': 1600.0, 'brand_price_min': 20, 'brand_price_sum': 10675790, 'brand_price_std': 3073.9151958492344, 'brand_price_average': 2799.11}, 14: {'brand_amount': 16073, 'brand_price_max': 38990, 'brand_price_median': 1700.0, 'brand_price_min': 12, 'brand_price_sum': 49076652, 'brand_price_std': 3605.595126524859, 'brand_price_average': 3053.17}, 15: {'brand_amount': 1458, 'brand_price_max': 45000, 'brand_price_median': 8500.0, 'brand_price_min': 100, 'brand_price_sum': 14373814, 'brand_price_std': 5425.058139699541, 'brand_price_average': 9851.83}, 16: {'brand_amount': 2219, 'brand_price_max': 17900, 'brand_price_median': 2999.0, 'brand_price_min': 20, 'brand_price_sum': 8078352, 'brand_price_std': 2450.9060888382096, 'brand_price_average': 3638.9}, 17: {'brand_amount': 913, 'brand_price_max': 55800, 'brand_price_median': 2200.0, 'brand_price_min': 15, 'brand_price_sum': 3328679, 'brand_price_std': 3952.913329849266, 'brand_price_average': 3641.88}, 18: {'brand_amount': 315, 'brand_price_max': 34599, 'brand_price_median': 1999.0, 'brand_price_min': 50, 'brand_price_sum': 1519049, 'brand_price_std': 6358.409760941774, 'brand_price_average': 4807.12}, 19: {'brand_amount': 1386, 'brand_price_max': 42350, 'brand_price_median': 2800.0, 'brand_price_min': 20, 'brand_price_sum': 7228288, 'brand_price_std': 6186.538948997005, 'brand_price_average': 5211.45}, 20: {'brand_amount': 1235, 'brand_price_max': 37800, 'brand_price_median': 1750.0, 'brand_price_min': 15, 'brand_price_sum': 4292737, 'brand_price_std': 4400.529809043852, 'brand_price_average': 3473.09}, 21: {'brand_amount': 1546, 'brand_price_max': 35999, 'brand_price_median': 4225.0, 'brand_price_min': 50, 'brand_price_sum': 8856481, 'brand_price_std': 5257.235025504735, 'brand_price_average': 5724.94}, 22: {'brand_amount': 1085, 'brand_price_max': 43900, 'brand_price_median': 3950.0, 'brand_price_min': 50, 'brand_price_sum': 6543426, 'brand_price_std': 5877.140886263793, 'brand_price_average': 6025.25}, 23: {'brand_amount': 183, 'brand_price_max': 64000, 'brand_price_median': 1200.0, 'brand_price_min': 99, 'brand_price_sum': 597132, 'brand_price_std': 7333.695140365304, 'brand_price_average': 3245.28}, 24: {'brand_amount': 630, 'brand_price_max': 99999, 'brand_price_median': 27450.0, 'brand_price_min': 15, 'brand_price_sum': 20422776, 'brand_price_std': 19855.495201252004, 'brand_price_average': 32365.73}, 25: {'brand_amount': 2059, 'brand_price_max': 22500, 'brand_price_median': 2500.0, 'brand_price_min': 25, 'brand_price_sum': 7515546, 'brand_price_std': 3556.2498385463, 'brand_price_average': 3648.32}, 26: {'brand_amount': 878, 'brand_price_max': 99999, 'brand_price_median': 5000.0, 'brand_price_min': 11, 'brand_price_sum': 7242792, 'brand_price_std': 10282.98727383031, 'brand_price_average': 8239.81}, 27: {'brand_amount': 2049, 'brand_price_max': 62900, 'brand_price_median': 4200.0, 'brand_price_min': 35, 'brand_price_sum': 10862559, 'brand_price_std': 4853.289239604342, 'brand_price_average': 5298.81}, 28: {'brand_amount': 633, 'brand_price_max': 39900, 'brand_price_median': 3790.0, 'brand_price_min': 80, 'brand_price_sum': 3373957, 'brand_price_std': 4509.03630065389, 'brand_price_average': 5321.7}, 29: {'brand_amount': 406, 'brand_price_max': 19990, 'brand_price_median': 5250.0, 'brand_price_min': 500, 'brand_price_sum': 2459028, 'brand_price_std': 3639.7377221985953, 'brand_price_average': 6041.84}, 30: {'brand_amount': 940, 'brand_price_max': 23200, 'brand_price_median': 3295.0, 'brand_price_min': 50, 'brand_price_sum': 3939145, 'brand_price_std': 3659.577291449609, 'brand_price_average': 4186.13}, 31: {'brand_amount': 318, 'brand_price_max': 11000, 'brand_price_median': 1000.0, 'brand_price_min': 50, 'brand_price_sum': 560155, 'brand_price_std': 1829.0792114585884, 'brand_price_average': 1755.97}, 32: {'brand_amount': 588, 'brand_price_max': 33500, 'brand_price_median': 2350.0, 'brand_price_min': 50, 'brand_price_sum': 2360095, 'brand_price_std': 4394.596002169336, 'brand_price_average': 4006.95}, 33: {'brand_amount': 201, 'brand_price_max': 65000, 'brand_price_median': 5600.0, 'brand_price_min': 980, 'brand_price_sum': 1839801, 'brand_price_std': 9637.135323460314, 'brand_price_average': 9107.93}, 34: {'brand_amount': 227, 'brand_price_max': 2900, 'brand_price_median': 999.0, 'brand_price_min': 60, 'brand_price_sum': 231776, 'brand_price_std': 554.1184445887935, 'brand_price_average': 1016.56}, 35: {'brand_amount': 180, 'brand_price_max': 28900, 'brand_price_median': 950.0, 'brand_price_min': 50, 'brand_price_sum': 297977, 'brand_price_std': 3325.9333650788553, 'brand_price_average': 1646.28}, 36: {'brand_amount': 228, 'brand_price_max': 20900, 'brand_price_median': 2250.0, 'brand_price_min': 150, 'brand_price_sum': 816001, 'brand_price_std': 3922.7153885654966, 'brand_price_average': 3563.32}, 37: {'brand_amount': 331, 'brand_price_max': 86500, 'brand_price_median': 13250.0, 'brand_price_min': 550, 'brand_price_sum': 5371844, 'brand_price_std': 13541.180315243788, 'brand_price_average': 16180.25}, 38: {'brand_amount': 65, 'brand_price_max': 8999, 'brand_price_median': 2850.0, 'brand_price_min': 99, 'brand_price_sum': 215620, 'brand_price_std': 2140.083145064336, 'brand_price_average': 3266.97}, 39: {'brand_amount': 9, 'brand_price_max': 14500, 'brand_price_median': 1900.0, 'brand_price_min': 750, 'brand_price_sum': 39480, 'brand_price_std': 5520.867232600327, 'brand_price_average': 3948.0}}\n"
     ]
    }
   ],
   "source": [
    "print(all_info)"
   ]
  },
  {
   "cell_type": "code",
   "execution_count": 27,
   "metadata": {},
   "outputs": [
    {
     "data": {
      "text/html": [
       "<div>\n",
       "<style scoped>\n",
       "    .dataframe tbody tr th:only-of-type {\n",
       "        vertical-align: middle;\n",
       "    }\n",
       "\n",
       "    .dataframe tbody tr th {\n",
       "        vertical-align: top;\n",
       "    }\n",
       "\n",
       "    .dataframe thead th {\n",
       "        text-align: right;\n",
       "    }\n",
       "</style>\n",
       "<table border=\"1\" class=\"dataframe\">\n",
       "  <thead>\n",
       "    <tr style=\"text-align: right;\">\n",
       "      <th></th>\n",
       "      <th>power_bin</th>\n",
       "      <th>power</th>\n",
       "    </tr>\n",
       "  </thead>\n",
       "  <tbody>\n",
       "    <tr>\n",
       "      <th>0</th>\n",
       "      <td>5.0</td>\n",
       "      <td>60</td>\n",
       "    </tr>\n",
       "    <tr>\n",
       "      <th>1</th>\n",
       "      <td>NaN</td>\n",
       "      <td>0</td>\n",
       "    </tr>\n",
       "    <tr>\n",
       "      <th>2</th>\n",
       "      <td>16.0</td>\n",
       "      <td>163</td>\n",
       "    </tr>\n",
       "    <tr>\n",
       "      <th>3</th>\n",
       "      <td>19.0</td>\n",
       "      <td>193</td>\n",
       "    </tr>\n",
       "    <tr>\n",
       "      <th>4</th>\n",
       "      <td>6.0</td>\n",
       "      <td>68</td>\n",
       "    </tr>\n",
       "  </tbody>\n",
       "</table>\n",
       "</div>"
      ],
      "text/plain": [
       "   power_bin  power\n",
       "0        5.0     60\n",
       "1        NaN      0\n",
       "2       16.0    163\n",
       "3       19.0    193\n",
       "4        6.0     68"
      ]
     },
     "execution_count": 27,
     "metadata": {},
     "output_type": "execute_result"
    }
   ],
   "source": [
    "bin = [i*10 for i in range(31)]\n",
    "data['power_bin'] = pd.cut(data['power'], bin, labels=False)\n",
    "data[['power_bin', 'power']].head()"
   ]
  },
  {
   "cell_type": "code",
   "execution_count": 28,
   "metadata": {},
   "outputs": [
    {
     "name": "stdout",
     "output_type": "stream",
     "text": [
      "(199037, 42)\n"
     ]
    },
    {
     "data": {
      "text/plain": [
       "Index(['SaleID', 'name', 'regDate', 'model', 'brand', 'bodyType', 'fuelType',\n",
       "       'gearbox', 'power', 'kilometer', 'notRepairedDamage', 'regionCode',\n",
       "       'seller', 'offerType', 'creatDate', 'price', 'v_0', 'v_1', 'v_2', 'v_3',\n",
       "       'v_4', 'v_5', 'v_6', 'v_7', 'v_8', 'v_9', 'v_10', 'v_11', 'v_12',\n",
       "       'v_13', 'v_14', 'train', 'used_time', 'city', 'brand_amount',\n",
       "       'brand_price_max', 'brand_price_median', 'brand_price_min',\n",
       "       'brand_price_sum', 'brand_price_std', 'brand_price_average',\n",
       "       'power_bin'],\n",
       "      dtype='object')"
      ]
     },
     "execution_count": 28,
     "metadata": {},
     "output_type": "execute_result"
    }
   ],
   "source": [
    "print(data.shape)\n",
    "data.columns"
   ]
  },
  {
   "cell_type": "code",
   "execution_count": 29,
   "metadata": {},
   "outputs": [],
   "source": [
    "data = data.drop(['creatDate', 'regDate', 'regionCode'], axis=1)"
   ]
  },
  {
   "cell_type": "code",
   "execution_count": 30,
   "metadata": {},
   "outputs": [
    {
     "name": "stdout",
     "output_type": "stream",
     "text": [
      "(199037, 39)\n"
     ]
    },
    {
     "data": {
      "text/plain": [
       "Index(['SaleID', 'name', 'model', 'brand', 'bodyType', 'fuelType', 'gearbox',\n",
       "       'power', 'kilometer', 'notRepairedDamage', 'seller', 'offerType',\n",
       "       'price', 'v_0', 'v_1', 'v_2', 'v_3', 'v_4', 'v_5', 'v_6', 'v_7', 'v_8',\n",
       "       'v_9', 'v_10', 'v_11', 'v_12', 'v_13', 'v_14', 'train', 'used_time',\n",
       "       'city', 'brand_amount', 'brand_price_max', 'brand_price_median',\n",
       "       'brand_price_min', 'brand_price_sum', 'brand_price_std',\n",
       "       'brand_price_average', 'power_bin'],\n",
       "      dtype='object')"
      ]
     },
     "execution_count": 30,
     "metadata": {},
     "output_type": "execute_result"
    }
   ],
   "source": [
    "print(data.shape)\n",
    "data.columns"
   ]
  },
  {
   "cell_type": "code",
   "execution_count": 31,
   "metadata": {},
   "outputs": [],
   "source": [
    "data.to_csv('data_for_tree.csv', index=0)"
   ]
  },
  {
   "cell_type": "code",
   "execution_count": 32,
   "metadata": {},
   "outputs": [
    {
     "data": {
      "text/plain": [
       "<matplotlib.axes._subplots.AxesSubplot at 0x135353c4448>"
      ]
     },
     "execution_count": 32,
     "metadata": {},
     "output_type": "execute_result"
    },
    {
     "data": {
      "image/png": "[encoded data removed]",
      "text/plain": [
       "<Figure size 504x504 with 2 Axes>"
      ]
     },
     "metadata": {
      "needs_background": "light"
     },
     "output_type": "display_data"
    }
   ],
   "source": [
    "data_numeric = data[['power', 'kilometer', 'brand_amount', 'brand_price_average', \n",
    "                     'brand_price_max', 'brand_price_median']]\n",
    "correlation = data_numeric.corr()\n",
    "\n",
    "f , ax = plt.subplots(figsize = (7, 7))\n",
    "plt.title('Correlation of Numeric Features with Price',y=1,size=16)\n",
    "sns.heatmap(correlation,square = True,  vmax=0.8)"
   ]
  },
  {
   "cell_type": "code",
   "execution_count": null,
   "metadata": {},
   "outputs": [],
   "source": []
  },
  {
   "cell_type": "code",
   "execution_count": null,
   "metadata": {},
   "outputs": [],
   "source": []
  }
 ],
 "metadata": {
  "kernelspec": {
   "display_name": "Python 3",
   "language": "python",
   "name": "python3"
  },
  "language_info": {
   "codemirror_mode": {
    "name": "ipython",
    "version": 3
   },
   "file_extension": ".py",
   "mimetype": "text/x-python",
   "name": "python",
   "nbconvert_exporter": "python",
   "pygments_lexer": "ipython3",
   "version": "3.7.6"
  }
 },
 "nbformat": 4,
 "nbformat_minor": 4
}
